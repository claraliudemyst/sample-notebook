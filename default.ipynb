{
 "cells": [
  {
   "cell_type": "markdown",
   "metadata": {},
   "source": [
    "## DemystData Python Toolkit\n",
    "\n",
    "DemystData connects users to external data, with sources that can enrich consumer, commrecial, and property records - and more. With the Demyst Python library, users access that data with extensive tools to tailor their user experience to their own needs and strengths. Here, we will lay out the functions of the library.  "
   ]
  },
  {
   "cell_type": "code",
   "execution_count": null,
   "metadata": {},
   "outputs": [],
   "source": [
    "# Import some popular python packages for handling data\n",
    "import csv\n",
    "import pandas as pd\n",
    "import numpy as np\n",
    "import random\n",
    "\n",
    "# Import and instantiate an Analytics object from demyst-analytics\n",
    "from demyst.analytics import Analytics\n",
    "analytics = Analytics()\n",
    "\n",
    "# Import 'report' for post processing\n",
    "from demyst.analytics.report import *"
   ]
  },
  {
   "cell_type": "markdown",
   "metadata": {},
   "source": [
    "## Inputs\n",
    "\n",
    "Inputs are a necessity for accessing Demyst's data sources. These sources provide matching technology that appends data in their stores to the inputs (consumer, business, or property records) that users bring to the table. \n",
    "\n",
    "If you do not have an input file handy, do not worry. Demyst has sample files that are perfect for testing and exploring."
   ]
  },
  {
   "cell_type": "markdown",
   "metadata": {},
   "source": [
    "### Hosted Inputs\n",
    "\n",
    "Hosted inputs are readily available input files with the sufficient columns and correct format to access with Demyst's data sources."
   ]
  },
  {
   "cell_type": "code",
   "execution_count": null,
   "metadata": {},
   "outputs": [],
   "source": [
    "# List all hosted inputs\n",
    "\n",
    "analytics.input_files()"
   ]
  },
  {
   "cell_type": "code",
   "execution_count": null,
   "metadata": {},
   "outputs": [],
   "source": [
    "# Download the 'us_business_entity' input file, a set of US business records.\n",
    "\n",
    "analytics.input_file('us_business_entity')"
   ]
  },
  {
   "cell_type": "markdown",
   "metadata": {},
   "source": [
    "#### Optional Arguments\n",
    "\n",
    "The `input_file` command defaults to 50 records, and does not appy any filters to the data set. However, there are two optional arguments.\n",
    "\n",
    "Users can provide a parameter for number of rows (second param, type: int).\n",
    "\n",
    "example: `10`\n",
    "\n",
    "Users can provide and a parameter to filter based on values in a column (third parameter, type: dict).\n",
    "\n",
    "example: `{\"state\" : \"ca\", \"naics_code\" : \"722110\"}`"
   ]
  },
  {
   "cell_type": "code",
   "execution_count": null,
   "metadata": {},
   "outputs": [],
   "source": [
    "analytics.input_file('us_business_entity', 10, {\"state\" : \"ca\", \"naics_code\" : \"722110\"})"
   ]
  },
  {
   "cell_type": "markdown",
   "metadata": {},
   "source": [
    "### Validate\n",
    "\n",
    "Users can use their own files to start out. The function, `validate`, will ensure those files are formatted correctly. "
   ]
  },
  {
   "cell_type": "code",
   "execution_count": null,
   "metadata": {},
   "outputs": [],
   "source": [
    "inputs = analytics.input_file('us_business_entity', 10, {\"state\" : \"ca\", \"naics_code\" : \"722110\"})\n",
    "analytics.validate(inputs)"
   ]
  },
  {
   "cell_type": "code",
   "execution_count": null,
   "metadata": {},
   "outputs": [],
   "source": [
    "# Changing post_code to a string, as recommended\n",
    "\n",
    "inputs['post_code'] = inputs['post_code'].astype(str)\n",
    "\n",
    "analytics.validate(inputs)"
   ]
  },
  {
   "cell_type": "markdown",
   "metadata": {},
   "source": [
    "### Finding Data\n",
    "\n",
    "Demyst connects to hundreds of data sources, so it can be challenging to decide on the right sources to run. In the Demyst python toolkit, The `search` function helps to find relevent sources, and the `product_stats` function helps to compare them."
   ]
  },
  {
   "cell_type": "markdown",
   "metadata": {},
   "source": [
    "#### search"
   ]
  },
  {
   "cell_type": "code",
   "execution_count": null,
   "metadata": {},
   "outputs": [],
   "source": [
    "# Use the inputs param to see the sources that will work with your input data set.\n",
    "\n",
    "analytics.search(inputs=inputs)"
   ]
  },
  {
   "cell_type": "code",
   "execution_count": null,
   "metadata": {},
   "outputs": [],
   "source": [
    "# Optionally, add \"tags\" to narrow your search\n",
    "\n",
    "analytics.search(inputs=inputs, tags=[\"Property\"])"
   ]
  },
  {
   "cell_type": "code",
   "execution_count": null,
   "metadata": {},
   "outputs": [],
   "source": [
    "# To retrieve with the raw data, add a 'notebook=False' argument.\n",
    "\n",
    "data_products = analytics.search(inputs=inputs, tags=[\"Property\"], notebook=False)\n",
    "data_product_names = [data_product[\"name\"] for data_product in data_products]\n",
    "data_product_names"
   ]
  },
  {
   "cell_type": "markdown",
   "metadata": {},
   "source": [
    "#### product_stats\n",
    "\n",
    "To better understand the strengths and limitations of products in the catalog, Demyst has kicked off a study of the performance of those products, down to the attribute level. Users can leverage that data to decide which data proudcts they're interested in."
   ]
  },
  {
   "cell_type": "code",
   "execution_count": null,
   "metadata": {},
   "outputs": [],
   "source": [
    "# Pass a list of product names into the product_stats function to get data for each attribute. \n",
    "\n",
    "stats = analytics.product_stats(data_product_names)\n",
    "stats"
   ]
  },
  {
   "cell_type": "code",
   "execution_count": null,
   "metadata": {},
   "outputs": [],
   "source": [
    "# Filter for providers that have > 75% hit rate and fields that have > 50% populated rate.\n",
    "\n",
    "high_hit_rate_stats = stats.loc[(stats['hit_rate'] > 0.75) & (stats['field_is_populated_rate'] > 0.5)]\n",
    "high_hit_rate_stats"
   ]
  },
  {
   "cell_type": "code",
   "execution_count": null,
   "metadata": {},
   "outputs": [],
   "source": [
    "# On top of that, filter for categorical variables that have < 10 distinct values observed.\n",
    "\n",
    "categorical_stats = high_hit_rate_stats.loc[(high_hit_rate_stats['num_distinct_values'] > 1) & (high_hit_rate_stats['num_distinct_values'] < 10)]\n",
    "categorical_stats"
   ]
  },
  {
   "cell_type": "code",
   "execution_count": null,
   "metadata": {},
   "outputs": [],
   "source": [
    "# See the data products that these fields encompass.\n",
    "\n",
    "products = list(set(categorical_stats[\"product\"].values))"
   ]
  },
  {
   "cell_type": "code",
   "execution_count": null,
   "metadata": {},
   "outputs": [],
   "source": [
    "# Save the field names themselves.\n",
    "\n",
    "categorical_stats[\"full_field_name\"] = categorical_stats[\"product\"].map(str) + \".\" + categorical_stats[\"flattened_name\"]\n",
    "flattened_field_names = list(set(categorical_stats[\"full_field_name\"].values))\n",
    "flattened_field_names"
   ]
  },
  {
   "cell_type": "markdown",
   "metadata": {},
   "source": [
    "### Enrich\n",
    "\n",
    "The Demyst python library is yet another way to execute data appends through the Demyst platform. "
   ]
  },
  {
   "cell_type": "code",
   "execution_count": null,
   "metadata": {},
   "outputs": [],
   "source": [
    "# Running an enrichment costs credits. Let's check how many credits our organization has.\n",
    "\n",
    "analytics.credits()"
   ]
  },
  {
   "cell_type": "code",
   "execution_count": null,
   "metadata": {},
   "outputs": [],
   "source": [
    "# Pass the list of products and the inputs to kick off an enrichment job.\n",
    "\n",
    "results = analytics.enrich_and_download(products, inputs)"
   ]
  },
  {
   "cell_type": "markdown",
   "metadata": {},
   "source": [
    "We now have a brick of data with all fields from the data products that were filtered down above. The package returns them as a Pandas DataFrame. "
   ]
  },
  {
   "cell_type": "code",
   "execution_count": null,
   "metadata": {},
   "outputs": [],
   "source": [
    "results"
   ]
  },
  {
   "cell_type": "markdown",
   "metadata": {},
   "source": [
    "### Post Enrich\n",
    "\n"
   ]
  },
  {
   "cell_type": "code",
   "execution_count": null,
   "metadata": {},
   "outputs": [],
   "source": [
    "# Only look at columns that met previous criteria\n",
    "\n",
    "keep_columns = list(set(flattened_field_names) & set(results.columns))\n",
    "reduced_results = results[keep_columns]\n",
    "reduced_results"
   ]
  },
  {
   "cell_type": "markdown",
   "metadata": {},
   "source": [
    "#### Report\n",
    "\n",
    "The demyst results are flattened, and each header indicates which data product the column was appended from. As raw data for modeling, this format works well. However, for analyzing how the data products and fields performed, the report that we imported at the start will provide more clarity.\n",
    "\n",
    "Each output field is listed as a row, and the match rate, fill rate, and number of unique outcomes are listed as columns."
   ]
  },
  {
   "cell_type": "code",
   "execution_count": null,
   "metadata": {},
   "outputs": [],
   "source": [
    "# Generate a report to get an overview of the results\n",
    "\n",
    "# Remember that with a very small sample size, nunique may be smaller than expected.\n",
    "\n",
    "report(inputs,reduced_results)"
   ]
  },
  {
   "cell_type": "markdown",
   "metadata": {},
   "source": [
    "### Modeling\n",
    "\n",
    "It is up to the user how to find value in the appended data for their own use case. One logical next step is to test the predictive power of the data by building models. "
   ]
  },
  {
   "cell_type": "markdown",
   "metadata": {},
   "source": [
    "Demyst passes through all of the input data into the results so that users can join internal data and response variables to their results."
   ]
  },
  {
   "cell_type": "code",
   "execution_count": null,
   "metadata": {},
   "outputs": [],
   "source": [
    "# Columns containing input data are prepended by the string 'inputs.'\n",
    "\n",
    "results[\"inputs.business_name\"]"
   ]
  },
  {
   "cell_type": "markdown",
   "metadata": {},
   "source": [
    "We will fake a response variable and internal score for demonstration."
   ]
  },
  {
   "cell_type": "code",
   "execution_count": null,
   "metadata": {},
   "outputs": [],
   "source": [
    "# Faking internal score and binary response, assocaited with business names run through demyst\n",
    "\n",
    "fake_internal = pd.DataFrame()\n",
    "fake_internal[\"business_name\"] = results[\"inputs.business_name\"]\n",
    "fake_internal['score'] = np.random.rand(fake_internal.shape[0])\n",
    "fake_internal[\"binary_response\"] = np.random.randint(0, 2, fake_internal.shape[0])\n",
    "fake_internal"
   ]
  },
  {
   "cell_type": "code",
   "execution_count": null,
   "metadata": {},
   "outputs": [],
   "source": [
    "joined = pd.merge(fake_internal, results, left_on='business_name', right_on='inputs.business_name')\n",
    "joined"
   ]
  },
  {
   "cell_type": "markdown",
   "metadata": {},
   "source": [
    "Now, we will refilter to the columns we identified, plus the joined in columns"
   ]
  },
  {
   "cell_type": "code",
   "execution_count": null,
   "metadata": {},
   "outputs": [],
   "source": [
    "join_keep_columns = [\"business_name\", \"score\", \"binary_response\"] + keep_columns\n",
    "ready_for_modeling_data = joined[join_keep_columns]\n",
    "ready_for_modeling_data"
   ]
  },
  {
   "cell_type": "markdown",
   "metadata": {},
   "source": [
    "This block of data is now ready for ingesting into your data science pipeline. It can be saved as a csv and uploaded to DataRobot, kept in a DataFrame and run with python scripts, or the many other options."
   ]
  },
  {
   "cell_type": "code",
   "execution_count": null,
   "metadata": {},
   "outputs": [],
   "source": []
  }
 ],
 "metadata": {
  "kernelspec": {
   "display_name": "Python 3",
   "language": "python",
   "name": "python3"
  },
  "language_info": {
   "codemirror_mode": {
    "name": "ipython",
    "version": 3
   },
   "file_extension": ".py",
   "mimetype": "text/x-python",
   "name": "python",
   "nbconvert_exporter": "python",
   "pygments_lexer": "ipython3",
   "version": "3.7.1"
  }
 },
 "nbformat": 4,
 "nbformat_minor": 2
}
