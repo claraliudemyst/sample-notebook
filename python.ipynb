{
 "cells": [
  {
   "cell_type": "code",
   "execution_count": 11,
   "metadata": {},
   "outputs": [
    {
     "data": {
      "text/html": [
       "<table><tr><th>Column</th><th>Status</th><th style=\"text-align: left\">Description</th></tr><tr><th>email_address</th><td style=\"background-color: lightgreen\"><nobr>All Valid &#x1F4AF;</nobr></td><td style=\"text-align: left\">All values in this column are good to go.</td></tr></table>"
      ],
      "text/plain": [
       "<demyst.analytics.analytics.Validation2 at 0x7f53f11f3b38>"
      ]
     },
     "execution_count": 11,
     "metadata": {},
     "output_type": "execute_result"
    }
   ],
   "source": [
    "from demyst.analytics import Analytics\n",
    "import pandas as pd\n",
    "a = Analytics(username=\"USERNAME@demystdata.com\", password=\"PASSWORD\")\n",
    "a.validate2(pd.DataFrame({ \"email_address\": [\"foo@bar.com\"]}))"
   ]
  }
 ],
 "metadata": {
  "kernelspec": {
   "display_name": "Python 3",
   "language": "python",
   "name": "python3"
  },
  "language_info": {
   "codemirror_mode": {
    "name": "ipython",
    "version": 3
   },
   "file_extension": ".py",
   "mimetype": "text/x-python",
   "name": "python",
   "nbconvert_exporter": "python",
   "pygments_lexer": "ipython3",
   "version": "3.6.7"
  }
 },
 "nbformat": 4,
 "nbformat_minor": 2
}
