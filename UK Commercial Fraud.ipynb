{
 "cells": [
  {
   "cell_type": "code",
   "execution_count": 5,
   "metadata": {},
   "outputs": [],
   "source": [
    "import pandas as pd\n",
    "import csv\n",
    "from demyst.analytics import Analytics\n",
    "from collections import Counter\n",
    "\n",
    "!pip3 install ukpc\n",
    "\n",
    "from ukpc import PostCode\n",
    "analytics = Analytics()"
   ]
  },
  {
   "cell_type": "markdown",
   "metadata": {},
   "source": [
    "## Read In Your Input Data File"
   ]
  },
  {
   "cell_type": "code",
   "execution_count": 16,
   "metadata": {},
   "outputs": [],
   "source": [
    "inputs = pd.read_csv('https://s3.amazonaws.com/demyst-apis/demos/all_reg_no.csv', header = None)\n",
    "inputs.columns = ['company_number']\n",
    "inputs['client_id'] =  inputs.index"
   ]
  },
  {
   "cell_type": "markdown",
   "metadata": {},
   "source": [
    "## List All Of The Relevant Providers For This Use Case"
   ]
  },
  {
   "cell_type": "code",
   "execution_count": 17,
   "metadata": {},
   "outputs": [],
   "source": [
    "all_providers = ['acuris_business_search', \n",
    "                 'companies_house_company_officers',\n",
    "                 'companies_house_company_profile',\n",
    "                 'duedil_company_charges', \n",
    "                 'duedil_company_group_parents',\n",
    "                 'duedil_company_group_subsidiaries',\n",
    "                 'duedil_company_officers',\n",
    "                 'duedil_company_related_companies',\n",
    "                 'duedil_company_vitals',\n",
    "                 'duedil_find_company',\n",
    "                 'globaldatabase_company_details',\n",
    "                 'globaldatabase_find_companies',\n",
    "                 'matchdeck_search',\n",
    "                 'matchdeck_details',\n",
    "                 'opencorporates_companies_search',\n",
    "                 'orb_search',\n",
    "                 'owler_company_premium',\n",
    "                 'pipl_premium_search']"
   ]
  },
  {
   "cell_type": "markdown",
   "metadata": {},
   "source": [
    "## Get Company Name and Address through Companies House"
   ]
  },
  {
   "cell_type": "code",
   "execution_count": 20,
   "metadata": {},
   "outputs": [
    {
     "data": {
      "text/html": [
       "<div>\n",
       "<style scoped>\n",
       "    .dataframe tbody tr th:only-of-type {\n",
       "        vertical-align: middle;\n",
       "    }\n",
       "\n",
       "    .dataframe tbody tr th {\n",
       "        vertical-align: top;\n",
       "    }\n",
       "\n",
       "    .dataframe thead th {\n",
       "        text-align: right;\n",
       "    }\n",
       "</style>\n",
       "<table border=\"1\" class=\"dataframe\">\n",
       "  <thead>\n",
       "    <tr style=\"text-align: right;\">\n",
       "      <th></th>\n",
       "      <th>company_number</th>\n",
       "      <th>companies_house_company_profile.row_id</th>\n",
       "      <th>client_id</th>\n",
       "      <th>companies_house_company_profile.accounts.accounting_reference_date.day</th>\n",
       "      <th>companies_house_company_profile.accounts.accounting_reference_date.month</th>\n",
       "      <th>companies_house_company_profile.accounts.last_accounts.made_up_to</th>\n",
       "      <th>companies_house_company_profile.accounts.last_accounts.period_end_on</th>\n",
       "      <th>companies_house_company_profile.accounts.last_accounts.period_start_on</th>\n",
       "      <th>companies_house_company_profile.accounts.last_accounts.type</th>\n",
       "      <th>companies_house_company_profile.accounts.next_accounts.due_on</th>\n",
       "      <th>...</th>\n",
       "      <th>companies_house_company_officers.items[9].occupation</th>\n",
       "      <th>companies_house_company_officers.items[9].officer_role</th>\n",
       "      <th>companies_house_company_officers.items[9].resigned_on</th>\n",
       "      <th>companies_house_company_officers.items_per_page</th>\n",
       "      <th>companies_house_company_officers.kind</th>\n",
       "      <th>companies_house_company_officers.links.self</th>\n",
       "      <th>companies_house_company_officers.resigned_count</th>\n",
       "      <th>companies_house_company_officers.start_index</th>\n",
       "      <th>companies_house_company_officers.total_results</th>\n",
       "      <th>companies_house_company_officers.error</th>\n",
       "    </tr>\n",
       "  </thead>\n",
       "  <tbody>\n",
       "    <tr>\n",
       "      <th>0</th>\n",
       "      <td>SC005364</td>\n",
       "      <td>0</td>\n",
       "      <td>0</td>\n",
       "      <td>30</td>\n",
       "      <td>6</td>\n",
       "      <td>2018-06-30</td>\n",
       "      <td>2018-06-30</td>\n",
       "      <td>2017-07-01</td>\n",
       "      <td>group</td>\n",
       "      <td>2019-12-31</td>\n",
       "      <td>...</td>\n",
       "      <td>Commercial Director</td>\n",
       "      <td>director</td>\n",
       "      <td></td>\n",
       "      <td>35</td>\n",
       "      <td>officer-list</td>\n",
       "      <td>/company/SC005364/officers</td>\n",
       "      <td>23</td>\n",
       "      <td>0</td>\n",
       "      <td>33</td>\n",
       "      <td></td>\n",
       "    </tr>\n",
       "  </tbody>\n",
       "</table>\n",
       "<p>1 rows × 624 columns</p>\n",
       "</div>"
      ],
      "text/plain": [
       "  company_number  companies_house_company_profile.row_id  client_id  \\\n",
       "0       SC005364                                       0          0   \n",
       "\n",
       "   companies_house_company_profile.accounts.accounting_reference_date.day  \\\n",
       "0                                                 30                        \n",
       "\n",
       "   companies_house_company_profile.accounts.accounting_reference_date.month  \\\n",
       "0                                                  6                          \n",
       "\n",
       "  companies_house_company_profile.accounts.last_accounts.made_up_to  \\\n",
       "0                                         2018-06-30                  \n",
       "\n",
       "  companies_house_company_profile.accounts.last_accounts.period_end_on  \\\n",
       "0                                         2018-06-30                     \n",
       "\n",
       "  companies_house_company_profile.accounts.last_accounts.period_start_on  \\\n",
       "0                                         2017-07-01                       \n",
       "\n",
       "  companies_house_company_profile.accounts.last_accounts.type  \\\n",
       "0                                              group            \n",
       "\n",
       "  companies_house_company_profile.accounts.next_accounts.due_on  \\\n",
       "0                                         2019-12-31              \n",
       "\n",
       "                   ...                    \\\n",
       "0                  ...                     \n",
       "\n",
       "   companies_house_company_officers.items[9].occupation  \\\n",
       "0                                Commercial Director      \n",
       "\n",
       "  companies_house_company_officers.items[9].officer_role  \\\n",
       "0                                           director       \n",
       "\n",
       "  companies_house_company_officers.items[9].resigned_on  \\\n",
       "0                                                         \n",
       "\n",
       "  companies_house_company_officers.items_per_page  \\\n",
       "0                                              35   \n",
       "\n",
       "  companies_house_company_officers.kind  \\\n",
       "0                          officer-list   \n",
       "\n",
       "   companies_house_company_officers.links.self  \\\n",
       "0                   /company/SC005364/officers   \n",
       "\n",
       "   companies_house_company_officers.resigned_count  \\\n",
       "0                                               23   \n",
       "\n",
       "  companies_house_company_officers.start_index  \\\n",
       "0                                            0   \n",
       "\n",
       "  companies_house_company_officers.total_results  \\\n",
       "0                                             33   \n",
       "\n",
       "  companies_house_company_officers.error  \n",
       "0                                         \n",
       "\n",
       "[1 rows x 624 columns]"
      ]
     },
     "execution_count": 20,
     "metadata": {},
     "output_type": "execute_result"
    }
   ],
   "source": [
    "providers = ['companies_house_company_profile', 'companies_house_company_officers']\n",
    "company_basic = analytics.enrich_and_download(providers, inputs[0:1], validate=False)\n",
    "company_basic.rename(columns = {'companies_house_company_profile.client_id': 'client_id',\n",
    "                                'inputs.company_number': 'company_number'},inplace = True)\n",
    "company_basic.head()"
   ]
  },
  {
   "cell_type": "markdown",
   "metadata": {},
   "source": [
    "## Add Returned Company Name And Address To Input File"
   ]
  },
  {
   "cell_type": "code",
   "execution_count": 21,
   "metadata": {},
   "outputs": [],
   "source": [
    "# Read in county & region(state) mapping data (sent with notebook) from filepath\n",
    "county_code= pd.read_excel('https://s3.amazonaws.com/demyst-apis/demos/county_code.xlsx')\n",
    "code = {}\n",
    "for i in range(len(county_code)):\n",
    "    code[county_code['county'][i].lower()] = county_code['parent'][i]"
   ]
  },
  {
   "cell_type": "code",
   "execution_count": 22,
   "metadata": {},
   "outputs": [],
   "source": [
    "inputs['business_name'] = company_basic['companies_house_company_profile.company_name'].fillna('')\n",
    "inputs['country'] = 'UK'\n",
    "inputs['name'] = inputs['business_name']\n",
    "inputs['search_term'] = inputs['business_name']\n",
    "inputs['street'] = company_basic['companies_house_company_profile.registered_office_address.address_line_1'].fillna('')\n",
    "inputs['city'] = company_basic['companies_house_company_profile.registered_office_address.locality'].fillna('')\n",
    "inputs['post_code'] = company_basic['companies_house_company_profile.registered_office_address.postal_code'].fillna('')\n",
    "#It needs to be ISO code\n",
    "inputs['state'] = company_basic['companies_house_company_profile.registered_office_address.locality'].apply(lambda x: code[x.lower()] if x==x else '')\n",
    "\n"
   ]
  },
  {
   "cell_type": "code",
   "execution_count": 23,
   "metadata": {},
   "outputs": [
    {
     "data": {
      "text/html": [
       "<div>\n",
       "<style scoped>\n",
       "    .dataframe tbody tr th:only-of-type {\n",
       "        vertical-align: middle;\n",
       "    }\n",
       "\n",
       "    .dataframe tbody tr th {\n",
       "        vertical-align: top;\n",
       "    }\n",
       "\n",
       "    .dataframe thead th {\n",
       "        text-align: right;\n",
       "    }\n",
       "</style>\n",
       "<table border=\"1\" class=\"dataframe\">\n",
       "  <thead>\n",
       "    <tr style=\"text-align: right;\">\n",
       "      <th></th>\n",
       "      <th>company_number</th>\n",
       "      <th>client_id</th>\n",
       "      <th>business_name</th>\n",
       "      <th>country</th>\n",
       "      <th>name</th>\n",
       "      <th>search_term</th>\n",
       "      <th>street</th>\n",
       "      <th>city</th>\n",
       "      <th>post_code</th>\n",
       "      <th>state</th>\n",
       "    </tr>\n",
       "  </thead>\n",
       "  <tbody>\n",
       "    <tr>\n",
       "      <th>0</th>\n",
       "      <td>SC005364</td>\n",
       "      <td>0</td>\n",
       "      <td>Aberdeen Football Club Plc</td>\n",
       "      <td>UK</td>\n",
       "      <td>Aberdeen Football Club Plc</td>\n",
       "      <td>Aberdeen Football Club Plc</td>\n",
       "      <td>Pittodrie Stadium</td>\n",
       "      <td>Aberdeen</td>\n",
       "      <td>AB24 5QH</td>\n",
       "      <td>SCT</td>\n",
       "    </tr>\n",
       "  </tbody>\n",
       "</table>\n",
       "</div>"
      ],
      "text/plain": [
       "  company_number  client_id               business_name country  \\\n",
       "0       SC005364          0  Aberdeen Football Club Plc      UK   \n",
       "\n",
       "                         name                 search_term             street  \\\n",
       "0  Aberdeen Football Club Plc  Aberdeen Football Club Plc  Pittodrie Stadium   \n",
       "\n",
       "       city post_code state  \n",
       "0  Aberdeen  AB24 5QH   SCT  "
      ]
     },
     "execution_count": 23,
     "metadata": {},
     "output_type": "execute_result"
    }
   ],
   "source": [
    "inputs[0:1]"
   ]
  },
  {
   "cell_type": "markdown",
   "metadata": {},
   "source": [
    "## Execute First Stage Of Appends - Vendors Which Use Company Name And Address As Input"
   ]
  },
  {
   "cell_type": "code",
   "execution_count": 24,
   "metadata": {},
   "outputs": [],
   "source": [
    "providers = [\n",
    "             'duedil_find_company',\n",
    "             'acuris_business_search', \n",
    "             'globaldatabase_find_companies',\n",
    "             'opencorporates_companies_search',\n",
    "             'matchdeck_search',\n",
    "             'orb_search'\n",
    "             ]"
   ]
  },
  {
   "cell_type": "code",
   "execution_count": 26,
   "metadata": {},
   "outputs": [
    {
     "data": {
      "text/html": [
       "<div>\n",
       "<style scoped>\n",
       "    .dataframe tbody tr th:only-of-type {\n",
       "        vertical-align: middle;\n",
       "    }\n",
       "\n",
       "    .dataframe tbody tr th {\n",
       "        vertical-align: top;\n",
       "    }\n",
       "\n",
       "    .dataframe thead th {\n",
       "        text-align: right;\n",
       "    }\n",
       "</style>\n",
       "<table border=\"1\" class=\"dataframe\">\n",
       "  <thead>\n",
       "    <tr style=\"text-align: right;\">\n",
       "      <th></th>\n",
       "      <th>inputs.business_name</th>\n",
       "      <th>inputs.city</th>\n",
       "      <th>inputs.company_number</th>\n",
       "      <th>inputs.country</th>\n",
       "      <th>inputs.name</th>\n",
       "      <th>inputs.post_code</th>\n",
       "      <th>inputs.search_term</th>\n",
       "      <th>inputs.state</th>\n",
       "      <th>inputs.street</th>\n",
       "      <th>duedil_find_company.row_id</th>\n",
       "      <th>...</th>\n",
       "      <th>matchdeck_search.row_id</th>\n",
       "      <th>matchdeck_search.client_id</th>\n",
       "      <th>matchdeck_search.is_hit</th>\n",
       "      <th>matchdeck_search.total</th>\n",
       "      <th>matchdeck_search.error</th>\n",
       "      <th>orb_search.row_id</th>\n",
       "      <th>orb_search.client_id</th>\n",
       "      <th>orb_search.is_hit</th>\n",
       "      <th>orb_search.results_count</th>\n",
       "      <th>orb_search.error</th>\n",
       "    </tr>\n",
       "  </thead>\n",
       "  <tbody>\n",
       "    <tr>\n",
       "      <th>0</th>\n",
       "      <td>Aberdeen Football Club Plc</td>\n",
       "      <td>Aberdeen</td>\n",
       "      <td>SC005364</td>\n",
       "      <td>UK</td>\n",
       "      <td>Aberdeen Football Club Plc</td>\n",
       "      <td>AB24 5QH</td>\n",
       "      <td>Aberdeen Football Club Plc</td>\n",
       "      <td>SCT</td>\n",
       "      <td>Pittodrie Stadium</td>\n",
       "      <td>0</td>\n",
       "      <td>...</td>\n",
       "      <td>0</td>\n",
       "      <td>0</td>\n",
       "      <td>False</td>\n",
       "      <td>0</td>\n",
       "      <td></td>\n",
       "      <td>0</td>\n",
       "      <td>0</td>\n",
       "      <td>False</td>\n",
       "      <td>0</td>\n",
       "      <td></td>\n",
       "    </tr>\n",
       "  </tbody>\n",
       "</table>\n",
       "<p>1 rows × 9470 columns</p>\n",
       "</div>"
      ],
      "text/plain": [
       "         inputs.business_name inputs.city inputs.company_number  \\\n",
       "0  Aberdeen Football Club Plc    Aberdeen              SC005364   \n",
       "\n",
       "  inputs.country                 inputs.name inputs.post_code  \\\n",
       "0             UK  Aberdeen Football Club Plc         AB24 5QH   \n",
       "\n",
       "           inputs.search_term inputs.state      inputs.street  \\\n",
       "0  Aberdeen Football Club Plc          SCT  Pittodrie Stadium   \n",
       "\n",
       "   duedil_find_company.row_id       ...         matchdeck_search.row_id  \\\n",
       "0                           0       ...                               0   \n",
       "\n",
       "  matchdeck_search.client_id matchdeck_search.is_hit matchdeck_search.total  \\\n",
       "0                          0                   False                      0   \n",
       "\n",
       "  matchdeck_search.error orb_search.row_id orb_search.client_id  \\\n",
       "0                                        0                    0   \n",
       "\n",
       "  orb_search.is_hit orb_search.results_count orb_search.error  \n",
       "0             False                        0                   \n",
       "\n",
       "[1 rows x 9470 columns]"
      ]
     },
     "execution_count": 26,
     "metadata": {},
     "output_type": "execute_result"
    }
   ],
   "source": [
    "first_results = analytics.enrich_and_download(providers, inputs[0:1], validate=False)\n",
    "first_results.head()"
   ]
  },
  {
   "cell_type": "code",
   "execution_count": 27,
   "metadata": {},
   "outputs": [
    {
     "data": {
      "text/html": [
       "<div>\n",
       "<style scoped>\n",
       "    .dataframe tbody tr th:only-of-type {\n",
       "        vertical-align: middle;\n",
       "    }\n",
       "\n",
       "    .dataframe tbody tr th {\n",
       "        vertical-align: top;\n",
       "    }\n",
       "\n",
       "    .dataframe thead th {\n",
       "        text-align: right;\n",
       "    }\n",
       "</style>\n",
       "<table border=\"1\" class=\"dataframe\">\n",
       "  <thead>\n",
       "    <tr style=\"text-align: right;\">\n",
       "      <th></th>\n",
       "      <th>company_number</th>\n",
       "      <th>companies_house_company_profile.row_id</th>\n",
       "      <th>client_id</th>\n",
       "      <th>companies_house_company_profile.accounts.accounting_reference_date.day</th>\n",
       "      <th>companies_house_company_profile.accounts.accounting_reference_date.month</th>\n",
       "      <th>companies_house_company_profile.accounts.last_accounts.made_up_to</th>\n",
       "      <th>companies_house_company_profile.accounts.last_accounts.period_end_on</th>\n",
       "      <th>companies_house_company_profile.accounts.last_accounts.period_start_on</th>\n",
       "      <th>companies_house_company_profile.accounts.last_accounts.type</th>\n",
       "      <th>companies_house_company_profile.accounts.next_accounts.due_on</th>\n",
       "      <th>...</th>\n",
       "      <th>matchdeck_search.row_id</th>\n",
       "      <th>matchdeck_search.client_id</th>\n",
       "      <th>matchdeck_search.is_hit</th>\n",
       "      <th>matchdeck_search.total</th>\n",
       "      <th>matchdeck_search.error</th>\n",
       "      <th>orb_search.row_id</th>\n",
       "      <th>orb_search.client_id</th>\n",
       "      <th>orb_search.is_hit</th>\n",
       "      <th>orb_search.results_count</th>\n",
       "      <th>orb_search.error</th>\n",
       "    </tr>\n",
       "  </thead>\n",
       "  <tbody>\n",
       "    <tr>\n",
       "      <th>0</th>\n",
       "      <td>SC005364</td>\n",
       "      <td>0</td>\n",
       "      <td>0</td>\n",
       "      <td>30</td>\n",
       "      <td>6</td>\n",
       "      <td>2018-06-30</td>\n",
       "      <td>2018-06-30</td>\n",
       "      <td>2017-07-01</td>\n",
       "      <td>group</td>\n",
       "      <td>2019-12-31</td>\n",
       "      <td>...</td>\n",
       "      <td>0</td>\n",
       "      <td>0</td>\n",
       "      <td>False</td>\n",
       "      <td>0</td>\n",
       "      <td></td>\n",
       "      <td>0</td>\n",
       "      <td>0</td>\n",
       "      <td>False</td>\n",
       "      <td>0</td>\n",
       "      <td></td>\n",
       "    </tr>\n",
       "  </tbody>\n",
       "</table>\n",
       "<p>1 rows × 10094 columns</p>\n",
       "</div>"
      ],
      "text/plain": [
       "  company_number  companies_house_company_profile.row_id  client_id  \\\n",
       "0       SC005364                                       0          0   \n",
       "\n",
       "   companies_house_company_profile.accounts.accounting_reference_date.day  \\\n",
       "0                                                 30                        \n",
       "\n",
       "   companies_house_company_profile.accounts.accounting_reference_date.month  \\\n",
       "0                                                  6                          \n",
       "\n",
       "  companies_house_company_profile.accounts.last_accounts.made_up_to  \\\n",
       "0                                         2018-06-30                  \n",
       "\n",
       "  companies_house_company_profile.accounts.last_accounts.period_end_on  \\\n",
       "0                                         2018-06-30                     \n",
       "\n",
       "  companies_house_company_profile.accounts.last_accounts.period_start_on  \\\n",
       "0                                         2017-07-01                       \n",
       "\n",
       "  companies_house_company_profile.accounts.last_accounts.type  \\\n",
       "0                                              group            \n",
       "\n",
       "  companies_house_company_profile.accounts.next_accounts.due_on  \\\n",
       "0                                         2019-12-31              \n",
       "\n",
       "        ...         matchdeck_search.row_id matchdeck_search.client_id  \\\n",
       "0       ...                               0                          0   \n",
       "\n",
       "  matchdeck_search.is_hit matchdeck_search.total matchdeck_search.error  \\\n",
       "0                   False                      0                          \n",
       "\n",
       "   orb_search.row_id  orb_search.client_id orb_search.is_hit  \\\n",
       "0                  0                     0             False   \n",
       "\n",
       "  orb_search.results_count orb_search.error  \n",
       "0                        0                   \n",
       "\n",
       "[1 rows x 10094 columns]"
      ]
     },
     "execution_count": 27,
     "metadata": {},
     "output_type": "execute_result"
    }
   ],
   "source": [
    "#Merge the returned results against unique client ID\n",
    "results = pd.merge(company_basic, first_results, how = 'left', left_on = 'client_id', right_on = 'duedil_find_company.client_id')\n",
    "results.head()"
   ]
  },
  {
   "cell_type": "markdown",
   "metadata": {},
   "source": [
    "## Execute Second Stage Of Appends - Sources Which Require Other Inputs As Inputs"
   ]
  },
  {
   "cell_type": "markdown",
   "metadata": {},
   "source": [
    "#### Run PIPL and review merged result"
   ]
  },
  {
   "cell_type": "code",
   "execution_count": 28,
   "metadata": {},
   "outputs": [
    {
     "data": {
      "text/html": [
       "<div>\n",
       "<style scoped>\n",
       "    .dataframe tbody tr th:only-of-type {\n",
       "        vertical-align: middle;\n",
       "    }\n",
       "\n",
       "    .dataframe tbody tr th {\n",
       "        vertical-align: top;\n",
       "    }\n",
       "\n",
       "    .dataframe thead th {\n",
       "        text-align: right;\n",
       "    }\n",
       "</style>\n",
       "<table border=\"1\" class=\"dataframe\">\n",
       "  <thead>\n",
       "    <tr style=\"text-align: right;\">\n",
       "      <th></th>\n",
       "      <th>client_id</th>\n",
       "      <th>country</th>\n",
       "      <th>street</th>\n",
       "      <th>city</th>\n",
       "      <th>post_code</th>\n",
       "      <th>state</th>\n",
       "      <th>first_name</th>\n",
       "      <th>last_name</th>\n",
       "    </tr>\n",
       "  </thead>\n",
       "  <tbody>\n",
       "    <tr>\n",
       "      <th>0</th>\n",
       "      <td>0</td>\n",
       "      <td>UK</td>\n",
       "      <td>Pittodrie Stadium</td>\n",
       "      <td>Aberdeen</td>\n",
       "      <td>AB24 5QH</td>\n",
       "      <td>SCT</td>\n",
       "      <td>Roy</td>\n",
       "      <td>Johnston</td>\n",
       "    </tr>\n",
       "  </tbody>\n",
       "</table>\n",
       "</div>"
      ],
      "text/plain": [
       "   client_id country             street      city post_code state first_name  \\\n",
       "0          0      UK  Pittodrie Stadium  Aberdeen  AB24 5QH   SCT        Roy   \n",
       "\n",
       "  last_name  \n",
       "0  Johnston  "
      ]
     },
     "execution_count": 28,
     "metadata": {},
     "output_type": "execute_result"
    }
   ],
   "source": [
    "#Create PIPL input to enable matching against unique client ID\n",
    "pipl_input = inputs[['client_id','country']].copy()\n",
    "pipl_input['street'] = company_basic['companies_house_company_officers.items[0].address.address_line_1'].fillna('')\n",
    "pipl_input['city'] = company_basic['companies_house_company_officers.items[0].address.locality'].fillna('')\n",
    "pipl_input['post_code'] = company_basic['companies_house_company_officers.items[0].address.postal_code'].fillna('')\n",
    "pipl_input['state'] = company_basic['companies_house_company_officers.items[0].address.locality'].fillna('').apply(lambda x:code[x.lower()] if x==x else '')\n",
    "pipl_input['first_name'] = company_basic['companies_house_company_officers.items[0].name'].apply(lambda x: x.split()[0] if x==x else '')\n",
    "pipl_input['last_name'] = company_basic['companies_house_company_officers.items[0].name'].apply(lambda x: x.split()[-1] if x==x else '')\n",
    "pipl_input[0:1]"
   ]
  },
  {
   "cell_type": "code",
   "execution_count": 29,
   "metadata": {},
   "outputs": [
    {
     "name": "stdout",
     "output_type": "stream",
     "text": [
      "Verifying providers...\n",
      "Starting enrichment...\n",
      "Uploading data...\n"
     ]
    },
    {
     "name": "stderr",
     "output_type": "stream",
     "text": [
      "This enrichment will use 5.5 credits of the 998063059 credits your organization currently has.\n"
     ]
    },
    {
     "name": "stdout",
     "output_type": "stream",
     "text": [
      "Enrich Job ID: 6154\n"
     ]
    },
    {
     "data": {
      "application/vnd.jupyter.widget-view+json": {
       "model_id": "9e65812236bb43be91e338d005499aa2",
       "version_major": 2,
       "version_minor": 0
      },
      "text/plain": [
       "IntProgress(value=1, max=2)"
      ]
     },
     "metadata": {},
     "output_type": "display_data"
    },
    {
     "data": {
      "application/vnd.jupyter.widget-view+json": {
       "model_id": "dc2d14c4b50f4ecfb237c164777a3319",
       "version_major": 2,
       "version_minor": 0
      },
      "text/plain": [
       "Label(value='Checking status...')"
      ]
     },
     "metadata": {},
     "output_type": "display_data"
    }
   ],
   "source": [
    "#Run PIPL\n",
    "pipl_results = analytics.enrich_and_download(['pipl_premium_search'], pipl_input[0:1], validate=False)\n",
    "results = pd.merge(results, pipl_results, how = 'left',left_on = 'client_id', right_on = 'pipl_premium_search.client_id')"
   ]
  },
  {
   "cell_type": "code",
   "execution_count": 30,
   "metadata": {},
   "outputs": [
    {
     "data": {
      "text/html": [
       "<div>\n",
       "<style scoped>\n",
       "    .dataframe tbody tr th:only-of-type {\n",
       "        vertical-align: middle;\n",
       "    }\n",
       "\n",
       "    .dataframe tbody tr th {\n",
       "        vertical-align: top;\n",
       "    }\n",
       "\n",
       "    .dataframe thead th {\n",
       "        text-align: right;\n",
       "    }\n",
       "</style>\n",
       "<table border=\"1\" class=\"dataframe\">\n",
       "  <thead>\n",
       "    <tr style=\"text-align: right;\">\n",
       "      <th></th>\n",
       "      <th>company_number</th>\n",
       "      <th>companies_house_company_profile.row_id</th>\n",
       "      <th>client_id</th>\n",
       "      <th>companies_house_company_profile.accounts.accounting_reference_date.day</th>\n",
       "      <th>companies_house_company_profile.accounts.accounting_reference_date.month</th>\n",
       "      <th>companies_house_company_profile.accounts.last_accounts.made_up_to</th>\n",
       "      <th>companies_house_company_profile.accounts.last_accounts.period_end_on</th>\n",
       "      <th>companies_house_company_profile.accounts.last_accounts.period_start_on</th>\n",
       "      <th>companies_house_company_profile.accounts.last_accounts.type</th>\n",
       "      <th>companies_house_company_profile.accounts.next_accounts.due_on</th>\n",
       "      <th>...</th>\n",
       "      <th>pipl_premium_search.query.names[0].last_seen</th>\n",
       "      <th>pipl_premium_search.query.names[0].middle_name</th>\n",
       "      <th>pipl_premium_search.query.names[0].prefix</th>\n",
       "      <th>pipl_premium_search.query.names[0].suffix</th>\n",
       "      <th>pipl_premium_search.query.names[0].type</th>\n",
       "      <th>pipl_premium_search.query.names[0].valid_since</th>\n",
       "      <th>pipl_premium_search.query.search_pointer</th>\n",
       "      <th>pipl_premium_search.search_id</th>\n",
       "      <th>pipl_premium_search.visible_sources</th>\n",
       "      <th>pipl_premium_search.error</th>\n",
       "    </tr>\n",
       "  </thead>\n",
       "  <tbody>\n",
       "    <tr>\n",
       "      <th>0</th>\n",
       "      <td>SC005364</td>\n",
       "      <td>0</td>\n",
       "      <td>0</td>\n",
       "      <td>30</td>\n",
       "      <td>6</td>\n",
       "      <td>2018-06-30</td>\n",
       "      <td>2018-06-30</td>\n",
       "      <td>2017-07-01</td>\n",
       "      <td>group</td>\n",
       "      <td>2019-12-31</td>\n",
       "      <td>...</td>\n",
       "      <td></td>\n",
       "      <td></td>\n",
       "      <td></td>\n",
       "      <td></td>\n",
       "      <td></td>\n",
       "      <td></td>\n",
       "      <td></td>\n",
       "      <td>1905301337399845630943747278740181455</td>\n",
       "      <td>0</td>\n",
       "      <td></td>\n",
       "    </tr>\n",
       "  </tbody>\n",
       "</table>\n",
       "<p>1 rows × 10182 columns</p>\n",
       "</div>"
      ],
      "text/plain": [
       "  company_number  companies_house_company_profile.row_id  client_id  \\\n",
       "0       SC005364                                       0          0   \n",
       "\n",
       "   companies_house_company_profile.accounts.accounting_reference_date.day  \\\n",
       "0                                                 30                        \n",
       "\n",
       "   companies_house_company_profile.accounts.accounting_reference_date.month  \\\n",
       "0                                                  6                          \n",
       "\n",
       "  companies_house_company_profile.accounts.last_accounts.made_up_to  \\\n",
       "0                                         2018-06-30                  \n",
       "\n",
       "  companies_house_company_profile.accounts.last_accounts.period_end_on  \\\n",
       "0                                         2018-06-30                     \n",
       "\n",
       "  companies_house_company_profile.accounts.last_accounts.period_start_on  \\\n",
       "0                                         2017-07-01                       \n",
       "\n",
       "  companies_house_company_profile.accounts.last_accounts.type  \\\n",
       "0                                              group            \n",
       "\n",
       "  companies_house_company_profile.accounts.next_accounts.due_on  \\\n",
       "0                                         2019-12-31              \n",
       "\n",
       "             ...             pipl_premium_search.query.names[0].last_seen  \\\n",
       "0            ...                                                            \n",
       "\n",
       "  pipl_premium_search.query.names[0].middle_name  \\\n",
       "0                                                  \n",
       "\n",
       "  pipl_premium_search.query.names[0].prefix  \\\n",
       "0                                             \n",
       "\n",
       "  pipl_premium_search.query.names[0].suffix  \\\n",
       "0                                             \n",
       "\n",
       "  pipl_premium_search.query.names[0].type  \\\n",
       "0                                           \n",
       "\n",
       "   pipl_premium_search.query.names[0].valid_since  \\\n",
       "0                                                   \n",
       "\n",
       "   pipl_premium_search.query.search_pointer  \\\n",
       "0                                             \n",
       "\n",
       "           pipl_premium_search.search_id pipl_premium_search.visible_sources  \\\n",
       "0  1905301337399845630943747278740181455                                   0   \n",
       "\n",
       "  pipl_premium_search.error  \n",
       "0                            \n",
       "\n",
       "[1 rows x 10182 columns]"
      ]
     },
     "execution_count": 30,
     "metadata": {},
     "output_type": "execute_result"
    }
   ],
   "source": [
    "results.head()"
   ]
  },
  {
   "cell_type": "markdown",
   "metadata": {},
   "source": [
    "#### Run DueDil and Review Merged Results"
   ]
  },
  {
   "cell_type": "code",
   "execution_count": 31,
   "metadata": {},
   "outputs": [
    {
     "name": "stdout",
     "output_type": "stream",
     "text": [
      "Verifying providers...\n",
      "Starting enrichment...\n",
      "Uploading data...\n"
     ]
    },
    {
     "name": "stderr",
     "output_type": "stream",
     "text": [
      "This enrichment will use 0.06 credits of the 998063054 credits your organization currently has.\n"
     ]
    },
    {
     "name": "stdout",
     "output_type": "stream",
     "text": [
      "Enrich Job ID: 6155\n"
     ]
    },
    {
     "data": {
      "application/vnd.jupyter.widget-view+json": {
       "model_id": "73f8b117cdba431c919fa8100c2e376b",
       "version_major": 2,
       "version_minor": 0
      },
      "text/plain": [
       "IntProgress(value=1, max=2)"
      ]
     },
     "metadata": {},
     "output_type": "display_data"
    },
    {
     "data": {
      "application/vnd.jupyter.widget-view+json": {
       "model_id": "1b205bd80ad94097a762819a3692c371",
       "version_major": 2,
       "version_minor": 0
      },
      "text/plain": [
       "Label(value='Checking status...')"
      ]
     },
     "metadata": {},
     "output_type": "display_data"
    }
   ],
   "source": [
    "#Run DueDil\n",
    "try:\n",
    "    duedil_input = results[results['duedil_find_company.companies[0].company_id'].isna() == False][['duedil_find_company.client_id','duedil_find_company.companies[0].company_id']]\n",
    "    duedil_input.rename(columns = {'duedil_find_company.client_id':'client_id',\n",
    "                               'duedil_find_company.companies[0].company_id':'id'}, inplace = True)\n",
    "    duedil_results = analytics.enrich_and_download(['duedil_company_vitals',\n",
    "                                      'duedil_company_charges',\n",
    "                                      'duedil_company_related_companies',\n",
    "                                      'duedil_company_group_parents', \n",
    "                                      'duedil_company_group_subsidiaries', \n",
    "                                      'duedil_company_officers'], duedil_input, validate=False)\n",
    "    results = pd.merge(results, duedil_results, how = 'left',left_on = 'client_id', right_on = 'duedil_company_vitals.client_id')\n",
    "except:\n",
    "    print('No company found for Duedil')"
   ]
  },
  {
   "cell_type": "code",
   "execution_count": 32,
   "metadata": {},
   "outputs": [
    {
     "data": {
      "text/html": [
       "<div>\n",
       "<style scoped>\n",
       "    .dataframe tbody tr th:only-of-type {\n",
       "        vertical-align: middle;\n",
       "    }\n",
       "\n",
       "    .dataframe tbody tr th {\n",
       "        vertical-align: top;\n",
       "    }\n",
       "\n",
       "    .dataframe thead th {\n",
       "        text-align: right;\n",
       "    }\n",
       "</style>\n",
       "<table border=\"1\" class=\"dataframe\">\n",
       "  <thead>\n",
       "    <tr style=\"text-align: right;\">\n",
       "      <th></th>\n",
       "      <th>company_number</th>\n",
       "      <th>companies_house_company_profile.row_id</th>\n",
       "      <th>client_id</th>\n",
       "      <th>companies_house_company_profile.accounts.accounting_reference_date.day</th>\n",
       "      <th>companies_house_company_profile.accounts.accounting_reference_date.month</th>\n",
       "      <th>companies_house_company_profile.accounts.last_accounts.made_up_to</th>\n",
       "      <th>companies_house_company_profile.accounts.last_accounts.period_end_on</th>\n",
       "      <th>companies_house_company_profile.accounts.last_accounts.period_start_on</th>\n",
       "      <th>companies_house_company_profile.accounts.last_accounts.type</th>\n",
       "      <th>companies_house_company_profile.accounts.next_accounts.due_on</th>\n",
       "      <th>...</th>\n",
       "      <th>duedil_company_officers.officers[9].person.honorific_y</th>\n",
       "      <th>duedil_company_officers.officers[9].person.last_name_y</th>\n",
       "      <th>duedil_company_officers.officers[9].person.middle_name_y</th>\n",
       "      <th>duedil_company_officers.officers[9].person.nationalities[0].country_code_y</th>\n",
       "      <th>duedil_company_officers.officers[9].person.nationalities[0].demonym_y</th>\n",
       "      <th>duedil_company_officers.officers[9].type_y</th>\n",
       "      <th>duedil_company_officers.pagination.limit_y</th>\n",
       "      <th>duedil_company_officers.pagination.offset_y</th>\n",
       "      <th>duedil_company_officers.pagination.total_y</th>\n",
       "      <th>duedil_company_officers.error_y</th>\n",
       "    </tr>\n",
       "  </thead>\n",
       "  <tbody>\n",
       "    <tr>\n",
       "      <th>0</th>\n",
       "      <td>SC005364</td>\n",
       "      <td>0</td>\n",
       "      <td>0</td>\n",
       "      <td>30</td>\n",
       "      <td>6</td>\n",
       "      <td>2018-06-30</td>\n",
       "      <td>2018-06-30</td>\n",
       "      <td>2017-07-01</td>\n",
       "      <td>group</td>\n",
       "      <td>2019-12-31</td>\n",
       "      <td>...</td>\n",
       "      <td>Mr</td>\n",
       "      <td>Yule</td>\n",
       "      <td>Kynoch</td>\n",
       "      <td>GB</td>\n",
       "      <td>British</td>\n",
       "      <td>person</td>\n",
       "      <td>10</td>\n",
       "      <td>0</td>\n",
       "      <td>30</td>\n",
       "      <td></td>\n",
       "    </tr>\n",
       "  </tbody>\n",
       "</table>\n",
       "<p>1 rows × 11340 columns</p>\n",
       "</div>"
      ],
      "text/plain": [
       "  company_number  companies_house_company_profile.row_id  client_id  \\\n",
       "0       SC005364                                       0          0   \n",
       "\n",
       "   companies_house_company_profile.accounts.accounting_reference_date.day  \\\n",
       "0                                                 30                        \n",
       "\n",
       "   companies_house_company_profile.accounts.accounting_reference_date.month  \\\n",
       "0                                                  6                          \n",
       "\n",
       "  companies_house_company_profile.accounts.last_accounts.made_up_to  \\\n",
       "0                                         2018-06-30                  \n",
       "\n",
       "  companies_house_company_profile.accounts.last_accounts.period_end_on  \\\n",
       "0                                         2018-06-30                     \n",
       "\n",
       "  companies_house_company_profile.accounts.last_accounts.period_start_on  \\\n",
       "0                                         2017-07-01                       \n",
       "\n",
       "  companies_house_company_profile.accounts.last_accounts.type  \\\n",
       "0                                              group            \n",
       "\n",
       "  companies_house_company_profile.accounts.next_accounts.due_on  \\\n",
       "0                                         2019-12-31              \n",
       "\n",
       "                ...                \\\n",
       "0               ...                 \n",
       "\n",
       "   duedil_company_officers.officers[9].person.honorific_y  \\\n",
       "0                                                 Mr        \n",
       "\n",
       "  duedil_company_officers.officers[9].person.last_name_y  \\\n",
       "0                                               Yule       \n",
       "\n",
       "  duedil_company_officers.officers[9].person.middle_name_y  \\\n",
       "0                                             Kynoch         \n",
       "\n",
       "  duedil_company_officers.officers[9].person.nationalities[0].country_code_y  \\\n",
       "0                                                 GB                           \n",
       "\n",
       "  duedil_company_officers.officers[9].person.nationalities[0].demonym_y  \\\n",
       "0                                            British                      \n",
       "\n",
       "   duedil_company_officers.officers[9].type_y  \\\n",
       "0                                      person   \n",
       "\n",
       "   duedil_company_officers.pagination.limit_y  \\\n",
       "0                                          10   \n",
       "\n",
       "  duedil_company_officers.pagination.offset_y  \\\n",
       "0                                           0   \n",
       "\n",
       "  duedil_company_officers.pagination.total_y duedil_company_officers.error_y  \n",
       "0                                         30                                  \n",
       "\n",
       "[1 rows x 11340 columns]"
      ]
     },
     "execution_count": 32,
     "metadata": {},
     "output_type": "execute_result"
    }
   ],
   "source": [
    "results = pd.merge(results, duedil_results, how = 'left',left_on = 'client_id', right_on = 'duedil_company_vitals.client_id')\n",
    "results.head()"
   ]
  },
  {
   "cell_type": "markdown",
   "metadata": {},
   "source": [
    "#### Run GlobalDatabase And Review Merged Results"
   ]
  },
  {
   "cell_type": "code",
   "execution_count": 33,
   "metadata": {},
   "outputs": [
    {
     "name": "stdout",
     "output_type": "stream",
     "text": [
      "Verifying providers...\n",
      "Starting enrichment...\n",
      "Uploading data...\n"
     ]
    },
    {
     "name": "stderr",
     "output_type": "stream",
     "text": [
      "This enrichment will use 0.01 credits of the 998063054 credits your organization currently has.\n"
     ]
    },
    {
     "name": "stdout",
     "output_type": "stream",
     "text": [
      "Enrich Job ID: 6156\n"
     ]
    },
    {
     "data": {
      "application/vnd.jupyter.widget-view+json": {
       "model_id": "4b525e7aa868410980efc4c93c3e7510",
       "version_major": 2,
       "version_minor": 0
      },
      "text/plain": [
       "IntProgress(value=1, max=2)"
      ]
     },
     "metadata": {},
     "output_type": "display_data"
    },
    {
     "data": {
      "application/vnd.jupyter.widget-view+json": {
       "model_id": "c86a7aa202834e17bac15792c192108f",
       "version_major": 2,
       "version_minor": 0
      },
      "text/plain": [
       "Label(value='Checking status...')"
      ]
     },
     "metadata": {},
     "output_type": "display_data"
    }
   ],
   "source": [
    "#Run Global Database\n",
    "try:\n",
    "    globaldatabase_input = results[results['globaldatabase_find_companies.companies[0].id'].isna() == False][['globaldatabase_find_companies.client_id','globaldatabase_find_companies.companies[0].id']]\n",
    "    globaldatabase_input.rename(columns = {'globaldatabase_find_companies.client_id':'client_id',\n",
    "                               'globaldatabase_find_companies.companies[0].id':'id'}, inplace = True)\n",
    "    globaldatabase_results = analytics.enrich_and_download(['globaldatabase_company_details'], globaldatabase_input, validate=False)\n",
    "    results = pd.merge(results, globaldatabase_results, how = 'left',left_on = 'client_id', right_on = 'globaldatabase_company_details.client_id')\n",
    "except:\n",
    "    print('No company found for global database')"
   ]
  },
  {
   "cell_type": "code",
   "execution_count": 34,
   "metadata": {},
   "outputs": [
    {
     "data": {
      "text/html": [
       "<div>\n",
       "<style scoped>\n",
       "    .dataframe tbody tr th:only-of-type {\n",
       "        vertical-align: middle;\n",
       "    }\n",
       "\n",
       "    .dataframe tbody tr th {\n",
       "        vertical-align: top;\n",
       "    }\n",
       "\n",
       "    .dataframe thead th {\n",
       "        text-align: right;\n",
       "    }\n",
       "</style>\n",
       "<table border=\"1\" class=\"dataframe\">\n",
       "  <thead>\n",
       "    <tr style=\"text-align: right;\">\n",
       "      <th></th>\n",
       "      <th>company_number</th>\n",
       "      <th>companies_house_company_profile.row_id</th>\n",
       "      <th>client_id</th>\n",
       "      <th>companies_house_company_profile.accounts.accounting_reference_date.day</th>\n",
       "      <th>companies_house_company_profile.accounts.accounting_reference_date.month</th>\n",
       "      <th>companies_house_company_profile.accounts.last_accounts.made_up_to</th>\n",
       "      <th>companies_house_company_profile.accounts.last_accounts.period_end_on</th>\n",
       "      <th>companies_house_company_profile.accounts.last_accounts.period_start_on</th>\n",
       "      <th>companies_house_company_profile.accounts.last_accounts.type</th>\n",
       "      <th>companies_house_company_profile.accounts.next_accounts.due_on</th>\n",
       "      <th>...</th>\n",
       "      <th>globaldatabase_company_details.location</th>\n",
       "      <th>globaldatabase_company_details.phone</th>\n",
       "      <th>globaldatabase_company_details.post_code</th>\n",
       "      <th>globaldatabase_company_details.region</th>\n",
       "      <th>globaldatabase_company_details.registration_number</th>\n",
       "      <th>globaldatabase_company_details.size</th>\n",
       "      <th>globaldatabase_company_details.street</th>\n",
       "      <th>globaldatabase_company_details.vat_number</th>\n",
       "      <th>globaldatabase_company_details.website</th>\n",
       "      <th>globaldatabase_company_details.error</th>\n",
       "    </tr>\n",
       "  </thead>\n",
       "  <tbody>\n",
       "    <tr>\n",
       "      <th>0</th>\n",
       "      <td>SC005364</td>\n",
       "      <td>0</td>\n",
       "      <td>0</td>\n",
       "      <td>30</td>\n",
       "      <td>6</td>\n",
       "      <td>2018-06-30</td>\n",
       "      <td>2018-06-30</td>\n",
       "      <td>2017-07-01</td>\n",
       "      <td>group</td>\n",
       "      <td>2019-12-31</td>\n",
       "      <td>...</td>\n",
       "      <td>PITTODRIE STREET</td>\n",
       "      <td>441224650400</td>\n",
       "      <td>AB24 5QH</td>\n",
       "      <td>Aberdeen</td>\n",
       "      <td>SC005364</td>\n",
       "      <td></td>\n",
       "      <td>Pittodrie Stadium</td>\n",
       "      <td></td>\n",
       "      <td>http://afc.co.uk</td>\n",
       "      <td></td>\n",
       "    </tr>\n",
       "  </tbody>\n",
       "</table>\n",
       "<p>1 rows × 11361 columns</p>\n",
       "</div>"
      ],
      "text/plain": [
       "  company_number  companies_house_company_profile.row_id  client_id  \\\n",
       "0       SC005364                                       0          0   \n",
       "\n",
       "   companies_house_company_profile.accounts.accounting_reference_date.day  \\\n",
       "0                                                 30                        \n",
       "\n",
       "   companies_house_company_profile.accounts.accounting_reference_date.month  \\\n",
       "0                                                  6                          \n",
       "\n",
       "  companies_house_company_profile.accounts.last_accounts.made_up_to  \\\n",
       "0                                         2018-06-30                  \n",
       "\n",
       "  companies_house_company_profile.accounts.last_accounts.period_end_on  \\\n",
       "0                                         2018-06-30                     \n",
       "\n",
       "  companies_house_company_profile.accounts.last_accounts.period_start_on  \\\n",
       "0                                         2017-07-01                       \n",
       "\n",
       "  companies_house_company_profile.accounts.last_accounts.type  \\\n",
       "0                                              group            \n",
       "\n",
       "  companies_house_company_profile.accounts.next_accounts.due_on  \\\n",
       "0                                         2019-12-31              \n",
       "\n",
       "                  ...                   \\\n",
       "0                 ...                    \n",
       "\n",
       "   globaldatabase_company_details.location  \\\n",
       "0                         PITTODRIE STREET   \n",
       "\n",
       "  globaldatabase_company_details.phone  \\\n",
       "0                         441224650400   \n",
       "\n",
       "  globaldatabase_company_details.post_code  \\\n",
       "0                                 AB24 5QH   \n",
       "\n",
       "  globaldatabase_company_details.region  \\\n",
       "0                              Aberdeen   \n",
       "\n",
       "  globaldatabase_company_details.registration_number  \\\n",
       "0                                           SC005364   \n",
       "\n",
       "   globaldatabase_company_details.size  globaldatabase_company_details.street  \\\n",
       "0                                                           Pittodrie Stadium   \n",
       "\n",
       "  globaldatabase_company_details.vat_number  \\\n",
       "0                                             \n",
       "\n",
       "  globaldatabase_company_details.website globaldatabase_company_details.error  \n",
       "0                       http://afc.co.uk                                       \n",
       "\n",
       "[1 rows x 11361 columns]"
      ]
     },
     "execution_count": 34,
     "metadata": {},
     "output_type": "execute_result"
    }
   ],
   "source": [
    "results.head()"
   ]
  },
  {
   "cell_type": "markdown",
   "metadata": {},
   "source": [
    "#### Run Owler And Review Merged Results"
   ]
  },
  {
   "cell_type": "code",
   "execution_count": 35,
   "metadata": {},
   "outputs": [
    {
     "name": "stdout",
     "output_type": "stream",
     "text": [
      "Verifying providers...\n",
      "Starting enrichment...\n",
      "Uploading data...\n"
     ]
    },
    {
     "name": "stderr",
     "output_type": "stream",
     "text": [
      "This enrichment will use 4.1 credits of the 998063054 credits your organization currently has.\n"
     ]
    },
    {
     "name": "stdout",
     "output_type": "stream",
     "text": [
      "Enrich Job ID: 6157\n"
     ]
    },
    {
     "data": {
      "application/vnd.jupyter.widget-view+json": {
       "model_id": "bcea898e72d747719641815595fe0741",
       "version_major": 2,
       "version_minor": 0
      },
      "text/plain": [
       "IntProgress(value=1, max=2)"
      ]
     },
     "metadata": {},
     "output_type": "display_data"
    },
    {
     "data": {
      "application/vnd.jupyter.widget-view+json": {
       "model_id": "27e0cc1b91114935a62c0eb7a9d0f9f7",
       "version_major": 2,
       "version_minor": 0
      },
      "text/plain": [
       "Label(value='Checking status...')"
      ]
     },
     "metadata": {},
     "output_type": "display_data"
    }
   ],
   "source": [
    "#Run Owler\n",
    "try:\n",
    "    owler_input = results[results['globaldatabase_company_details.website'].isna() == False][['globaldatabase_company_details.client_id','globaldatabase_company_details.website']]\n",
    "    owler_input.rename(columns = {'globaldatabase_company_details.client_id':'client_id',\n",
    "                               'globaldatabase_company_details.website':'url'}, inplace = True)\n",
    "    owler_results = analytics.enrich_and_download(['owler_company_premium'], owler_input, validate=False)\n",
    "    results = pd.merge(results, owler_results, how = 'left',left_on = 'client_id', right_on = 'owler_company_premium.client_id')\n",
    "except:\n",
    "    print('No company found for Owler')"
   ]
  },
  {
   "cell_type": "code",
   "execution_count": 36,
   "metadata": {},
   "outputs": [
    {
     "data": {
      "text/html": [
       "<div>\n",
       "<style scoped>\n",
       "    .dataframe tbody tr th:only-of-type {\n",
       "        vertical-align: middle;\n",
       "    }\n",
       "\n",
       "    .dataframe tbody tr th {\n",
       "        vertical-align: top;\n",
       "    }\n",
       "\n",
       "    .dataframe thead th {\n",
       "        text-align: right;\n",
       "    }\n",
       "</style>\n",
       "<table border=\"1\" class=\"dataframe\">\n",
       "  <thead>\n",
       "    <tr style=\"text-align: right;\">\n",
       "      <th></th>\n",
       "      <th>company_number</th>\n",
       "      <th>companies_house_company_profile.row_id</th>\n",
       "      <th>client_id</th>\n",
       "      <th>companies_house_company_profile.accounts.accounting_reference_date.day</th>\n",
       "      <th>companies_house_company_profile.accounts.accounting_reference_date.month</th>\n",
       "      <th>companies_house_company_profile.accounts.last_accounts.made_up_to</th>\n",
       "      <th>companies_house_company_profile.accounts.last_accounts.period_end_on</th>\n",
       "      <th>companies_house_company_profile.accounts.last_accounts.period_start_on</th>\n",
       "      <th>companies_house_company_profile.accounts.last_accounts.type</th>\n",
       "      <th>companies_house_company_profile.accounts.next_accounts.due_on</th>\n",
       "      <th>...</th>\n",
       "      <th>owler_company_premium.perm_id</th>\n",
       "      <th>owler_company_premium.profile_url</th>\n",
       "      <th>owler_company_premium.revenue</th>\n",
       "      <th>owler_company_premium.short_name</th>\n",
       "      <th>owler_company_premium.stock.exchange</th>\n",
       "      <th>owler_company_premium.stock.ticker</th>\n",
       "      <th>owler_company_premium.twitter_link</th>\n",
       "      <th>owler_company_premium.website</th>\n",
       "      <th>owler_company_premium.youtube_link</th>\n",
       "      <th>owler_company_premium.error</th>\n",
       "    </tr>\n",
       "  </thead>\n",
       "  <tbody>\n",
       "    <tr>\n",
       "      <th>0</th>\n",
       "      <td>SC005364</td>\n",
       "      <td>0</td>\n",
       "      <td>0</td>\n",
       "      <td>30</td>\n",
       "      <td>6</td>\n",
       "      <td>2018-06-30</td>\n",
       "      <td>2018-06-30</td>\n",
       "      <td>2017-07-01</td>\n",
       "      <td>group</td>\n",
       "      <td>2019-12-31</td>\n",
       "      <td>...</td>\n",
       "      <td>https://permid.org/1-4295897304</td>\n",
       "      <td>https://www.owler.com/iaApp/2298926/aberdeen-f...</td>\n",
       "      <td></td>\n",
       "      <td>Aberdeen Football Club</td>\n",
       "      <td></td>\n",
       "      <td></td>\n",
       "      <td>http://twitter.com/AberdeenFC</td>\n",
       "      <td>http://www.afc.co.uk</td>\n",
       "      <td></td>\n",
       "      <td></td>\n",
       "    </tr>\n",
       "  </tbody>\n",
       "</table>\n",
       "<p>1 rows × 11395 columns</p>\n",
       "</div>"
      ],
      "text/plain": [
       "  company_number  companies_house_company_profile.row_id  client_id  \\\n",
       "0       SC005364                                       0          0   \n",
       "\n",
       "   companies_house_company_profile.accounts.accounting_reference_date.day  \\\n",
       "0                                                 30                        \n",
       "\n",
       "   companies_house_company_profile.accounts.accounting_reference_date.month  \\\n",
       "0                                                  6                          \n",
       "\n",
       "  companies_house_company_profile.accounts.last_accounts.made_up_to  \\\n",
       "0                                         2018-06-30                  \n",
       "\n",
       "  companies_house_company_profile.accounts.last_accounts.period_end_on  \\\n",
       "0                                         2018-06-30                     \n",
       "\n",
       "  companies_house_company_profile.accounts.last_accounts.period_start_on  \\\n",
       "0                                         2017-07-01                       \n",
       "\n",
       "  companies_house_company_profile.accounts.last_accounts.type  \\\n",
       "0                                              group            \n",
       "\n",
       "  companies_house_company_profile.accounts.next_accounts.due_on  \\\n",
       "0                                         2019-12-31              \n",
       "\n",
       "              ...                owler_company_premium.perm_id  \\\n",
       "0             ...              https://permid.org/1-4295897304   \n",
       "\n",
       "                   owler_company_premium.profile_url  \\\n",
       "0  https://www.owler.com/iaApp/2298926/aberdeen-f...   \n",
       "\n",
       "  owler_company_premium.revenue owler_company_premium.short_name  \\\n",
       "0                                         Aberdeen Football Club   \n",
       "\n",
       "  owler_company_premium.stock.exchange  owler_company_premium.stock.ticker  \\\n",
       "0                                                                            \n",
       "\n",
       "   owler_company_premium.twitter_link owler_company_premium.website  \\\n",
       "0       http://twitter.com/AberdeenFC          http://www.afc.co.uk   \n",
       "\n",
       "  owler_company_premium.youtube_link owler_company_premium.error  \n",
       "0                                                                 \n",
       "\n",
       "[1 rows x 11395 columns]"
      ]
     },
     "execution_count": 36,
     "metadata": {},
     "output_type": "execute_result"
    }
   ],
   "source": [
    "results.head()"
   ]
  },
  {
   "cell_type": "markdown",
   "metadata": {},
   "source": [
    "#### Run Matchdeck And Review Merged Results"
   ]
  },
  {
   "cell_type": "code",
   "execution_count": 37,
   "metadata": {},
   "outputs": [
    {
     "name": "stdout",
     "output_type": "stream",
     "text": [
      "No company found for matchdeck\n"
     ]
    }
   ],
   "source": [
    "#Run Matchdeck\n",
    "try:\n",
    "    matchdeck_input = results[results['matchdeck_search.id'].isna() == False][['matchdeck_search.client_id','matchdeck_search.id']]\n",
    "    matchdeck_input.rename(columns = {'matchdeck_search.client_id':'client_id',\n",
    "                               'matchdeck_search.id':'id'}, inplace = True)\n",
    "    matchdeck_results = analytics.enrich_and_download(['matchdeck_details'], matchdeck_input, validate=False)\n",
    "    results = pd.merge(results, matchdeck_results, how = 'left',left_on = 'client_id', right_on = 'matchdeck_details.client_id')\n",
    "except:\n",
    "    print('No company found for matchdeck')"
   ]
  },
  {
   "cell_type": "code",
   "execution_count": 38,
   "metadata": {},
   "outputs": [
    {
     "data": {
      "text/html": [
       "<div>\n",
       "<style scoped>\n",
       "    .dataframe tbody tr th:only-of-type {\n",
       "        vertical-align: middle;\n",
       "    }\n",
       "\n",
       "    .dataframe tbody tr th {\n",
       "        vertical-align: top;\n",
       "    }\n",
       "\n",
       "    .dataframe thead th {\n",
       "        text-align: right;\n",
       "    }\n",
       "</style>\n",
       "<table border=\"1\" class=\"dataframe\">\n",
       "  <thead>\n",
       "    <tr style=\"text-align: right;\">\n",
       "      <th></th>\n",
       "      <th>company_number</th>\n",
       "      <th>companies_house_company_profile.row_id</th>\n",
       "      <th>client_id</th>\n",
       "      <th>companies_house_company_profile.accounts.accounting_reference_date.day</th>\n",
       "      <th>companies_house_company_profile.accounts.accounting_reference_date.month</th>\n",
       "      <th>companies_house_company_profile.accounts.last_accounts.made_up_to</th>\n",
       "      <th>companies_house_company_profile.accounts.last_accounts.period_end_on</th>\n",
       "      <th>companies_house_company_profile.accounts.last_accounts.period_start_on</th>\n",
       "      <th>companies_house_company_profile.accounts.last_accounts.type</th>\n",
       "      <th>companies_house_company_profile.accounts.next_accounts.due_on</th>\n",
       "      <th>...</th>\n",
       "      <th>owler_company_premium.perm_id</th>\n",
       "      <th>owler_company_premium.profile_url</th>\n",
       "      <th>owler_company_premium.revenue</th>\n",
       "      <th>owler_company_premium.short_name</th>\n",
       "      <th>owler_company_premium.stock.exchange</th>\n",
       "      <th>owler_company_premium.stock.ticker</th>\n",
       "      <th>owler_company_premium.twitter_link</th>\n",
       "      <th>owler_company_premium.website</th>\n",
       "      <th>owler_company_premium.youtube_link</th>\n",
       "      <th>owler_company_premium.error</th>\n",
       "    </tr>\n",
       "  </thead>\n",
       "  <tbody>\n",
       "    <tr>\n",
       "      <th>0</th>\n",
       "      <td>SC005364</td>\n",
       "      <td>0</td>\n",
       "      <td>0</td>\n",
       "      <td>30</td>\n",
       "      <td>6</td>\n",
       "      <td>2018-06-30</td>\n",
       "      <td>2018-06-30</td>\n",
       "      <td>2017-07-01</td>\n",
       "      <td>group</td>\n",
       "      <td>2019-12-31</td>\n",
       "      <td>...</td>\n",
       "      <td>https://permid.org/1-4295897304</td>\n",
       "      <td>https://www.owler.com/iaApp/2298926/aberdeen-f...</td>\n",
       "      <td></td>\n",
       "      <td>Aberdeen Football Club</td>\n",
       "      <td></td>\n",
       "      <td></td>\n",
       "      <td>http://twitter.com/AberdeenFC</td>\n",
       "      <td>http://www.afc.co.uk</td>\n",
       "      <td></td>\n",
       "      <td></td>\n",
       "    </tr>\n",
       "  </tbody>\n",
       "</table>\n",
       "<p>1 rows × 11395 columns</p>\n",
       "</div>"
      ],
      "text/plain": [
       "  company_number  companies_house_company_profile.row_id  client_id  \\\n",
       "0       SC005364                                       0          0   \n",
       "\n",
       "   companies_house_company_profile.accounts.accounting_reference_date.day  \\\n",
       "0                                                 30                        \n",
       "\n",
       "   companies_house_company_profile.accounts.accounting_reference_date.month  \\\n",
       "0                                                  6                          \n",
       "\n",
       "  companies_house_company_profile.accounts.last_accounts.made_up_to  \\\n",
       "0                                         2018-06-30                  \n",
       "\n",
       "  companies_house_company_profile.accounts.last_accounts.period_end_on  \\\n",
       "0                                         2018-06-30                     \n",
       "\n",
       "  companies_house_company_profile.accounts.last_accounts.period_start_on  \\\n",
       "0                                         2017-07-01                       \n",
       "\n",
       "  companies_house_company_profile.accounts.last_accounts.type  \\\n",
       "0                                              group            \n",
       "\n",
       "  companies_house_company_profile.accounts.next_accounts.due_on  \\\n",
       "0                                         2019-12-31              \n",
       "\n",
       "              ...                owler_company_premium.perm_id  \\\n",
       "0             ...              https://permid.org/1-4295897304   \n",
       "\n",
       "                   owler_company_premium.profile_url  \\\n",
       "0  https://www.owler.com/iaApp/2298926/aberdeen-f...   \n",
       "\n",
       "  owler_company_premium.revenue owler_company_premium.short_name  \\\n",
       "0                                         Aberdeen Football Club   \n",
       "\n",
       "  owler_company_premium.stock.exchange  owler_company_premium.stock.ticker  \\\n",
       "0                                                                            \n",
       "\n",
       "   owler_company_premium.twitter_link owler_company_premium.website  \\\n",
       "0       http://twitter.com/AberdeenFC          http://www.afc.co.uk   \n",
       "\n",
       "  owler_company_premium.youtube_link owler_company_premium.error  \n",
       "0                                                                 \n",
       "\n",
       "[1 rows x 11395 columns]"
      ]
     },
     "execution_count": 38,
     "metadata": {},
     "output_type": "execute_result"
    }
   ],
   "source": [
    "results.head()"
   ]
  },
  {
   "cell_type": "markdown",
   "metadata": {},
   "source": [
    "## Clean Output For Analysis - Remove Empty Columns, Errors, Row ID and Input Columns"
   ]
  },
  {
   "cell_type": "code",
   "execution_count": 39,
   "metadata": {},
   "outputs": [],
   "source": [
    "results.drop(columns = [column for column in results.columns if 'error' in column or 'inputs' in column or 'row_id' in column or ('client_id' in column and column != 'client_id')], inplace = True)\n",
    "results.replace([''], [None], inplace =True)\n",
    "results.dropna(axis = 1, thresh = 1, inplace = True)"
   ]
  },
  {
   "cell_type": "markdown",
   "metadata": {},
   "source": [
    "## Display Number of Columns Returned for Each Vendor"
   ]
  },
  {
   "cell_type": "code",
   "execution_count": 40,
   "metadata": {},
   "outputs": [
    {
     "data": {
      "text/plain": [
       "Counter({'acuris_business_search': 6603,\n",
       "         'companies_house_company_officers': 430,\n",
       "         'companies_house_company_profile': 43,\n",
       "         'duedil_company_charges': 172,\n",
       "         'duedil_company_group_parents': 12,\n",
       "         'duedil_company_group_subsidiaries': 18,\n",
       "         'duedil_company_officers': 438,\n",
       "         'duedil_company_related_companies': 232,\n",
       "         'duedil_company_vitals': 62,\n",
       "         'duedil_find_company': 75,\n",
       "         'globaldatabase_company_details': 12,\n",
       "         'globaldatabase_find_companies': 5,\n",
       "         'matchdeck_search': 2,\n",
       "         'opencorporates_companies_search': 57,\n",
       "         'orb_search': 2,\n",
       "         'owler_company_premium': 17,\n",
       "         'pipl_premium_search': 12,\n",
       "         'matchdeck_details': 0})"
      ]
     },
     "execution_count": 40,
     "metadata": {},
     "output_type": "execute_result"
    }
   ],
   "source": [
    "output_columns = sorted([column.split('.')[0] for column in results.columns if 'client_id' != column and 'company_number' != column])\n",
    "vendor_count = Counter(output_columns)\n",
    "for vendor in all_providers:\n",
    "    if vendor not in vendor_count.keys():\n",
    "        vendor_count[vendor] = 0\n",
    "vendor_count"
   ]
  },
  {
   "cell_type": "markdown",
   "metadata": {},
   "source": [
    "## Display Final Results and Save to Local Folder"
   ]
  },
  {
   "cell_type": "code",
   "execution_count": 41,
   "metadata": {},
   "outputs": [
    {
     "data": {
      "text/html": [
       "<div>\n",
       "<style scoped>\n",
       "    .dataframe tbody tr th:only-of-type {\n",
       "        vertical-align: middle;\n",
       "    }\n",
       "\n",
       "    .dataframe tbody tr th {\n",
       "        vertical-align: top;\n",
       "    }\n",
       "\n",
       "    .dataframe thead th {\n",
       "        text-align: right;\n",
       "    }\n",
       "</style>\n",
       "<table border=\"1\" class=\"dataframe\">\n",
       "  <thead>\n",
       "    <tr style=\"text-align: right;\">\n",
       "      <th></th>\n",
       "      <th>company_number</th>\n",
       "      <th>client_id</th>\n",
       "      <th>companies_house_company_profile.accounts.accounting_reference_date.day</th>\n",
       "      <th>companies_house_company_profile.accounts.accounting_reference_date.month</th>\n",
       "      <th>companies_house_company_profile.accounts.last_accounts.made_up_to</th>\n",
       "      <th>companies_house_company_profile.accounts.last_accounts.period_end_on</th>\n",
       "      <th>companies_house_company_profile.accounts.last_accounts.period_start_on</th>\n",
       "      <th>companies_house_company_profile.accounts.last_accounts.type</th>\n",
       "      <th>companies_house_company_profile.accounts.next_accounts.due_on</th>\n",
       "      <th>companies_house_company_profile.accounts.next_accounts.overdue</th>\n",
       "      <th>...</th>\n",
       "      <th>owler_company_premium.hq_address.street</th>\n",
       "      <th>owler_company_premium.industries[0].industry</th>\n",
       "      <th>owler_company_premium.is_hit</th>\n",
       "      <th>owler_company_premium.logo_url</th>\n",
       "      <th>owler_company_premium.name</th>\n",
       "      <th>owler_company_premium.perm_id</th>\n",
       "      <th>owler_company_premium.profile_url</th>\n",
       "      <th>owler_company_premium.short_name</th>\n",
       "      <th>owler_company_premium.twitter_link</th>\n",
       "      <th>owler_company_premium.website</th>\n",
       "    </tr>\n",
       "  </thead>\n",
       "  <tbody>\n",
       "    <tr>\n",
       "      <th>0</th>\n",
       "      <td>SC005364</td>\n",
       "      <td>0</td>\n",
       "      <td>30</td>\n",
       "      <td>6</td>\n",
       "      <td>2018-06-30</td>\n",
       "      <td>2018-06-30</td>\n",
       "      <td>2017-07-01</td>\n",
       "      <td>group</td>\n",
       "      <td>2019-12-31</td>\n",
       "      <td>False</td>\n",
       "      <td>...</td>\n",
       "      <td>Pittodrie Street</td>\n",
       "      <td>Travel, Recreation &amp; Leisure</td>\n",
       "      <td>True</td>\n",
       "      <td>https://s3.amazonaws.com/owler-image/logo/aber...</td>\n",
       "      <td>Aberdeen Football Club Plc</td>\n",
       "      <td>https://permid.org/1-4295897304</td>\n",
       "      <td>https://www.owler.com/iaApp/2298926/aberdeen-f...</td>\n",
       "      <td>Aberdeen Football Club</td>\n",
       "      <td>http://twitter.com/AberdeenFC</td>\n",
       "      <td>http://www.afc.co.uk</td>\n",
       "    </tr>\n",
       "  </tbody>\n",
       "</table>\n",
       "<p>1 rows × 8194 columns</p>\n",
       "</div>"
      ],
      "text/plain": [
       "  company_number  client_id  \\\n",
       "0       SC005364          0   \n",
       "\n",
       "   companies_house_company_profile.accounts.accounting_reference_date.day  \\\n",
       "0                                                 30                        \n",
       "\n",
       "   companies_house_company_profile.accounts.accounting_reference_date.month  \\\n",
       "0                                                  6                          \n",
       "\n",
       "  companies_house_company_profile.accounts.last_accounts.made_up_to  \\\n",
       "0                                         2018-06-30                  \n",
       "\n",
       "  companies_house_company_profile.accounts.last_accounts.period_end_on  \\\n",
       "0                                         2018-06-30                     \n",
       "\n",
       "  companies_house_company_profile.accounts.last_accounts.period_start_on  \\\n",
       "0                                         2017-07-01                       \n",
       "\n",
       "  companies_house_company_profile.accounts.last_accounts.type  \\\n",
       "0                                              group            \n",
       "\n",
       "  companies_house_company_profile.accounts.next_accounts.due_on  \\\n",
       "0                                         2019-12-31              \n",
       "\n",
       "   companies_house_company_profile.accounts.next_accounts.overdue  \\\n",
       "0                                              False                \n",
       "\n",
       "               ...              owler_company_premium.hq_address.street  \\\n",
       "0              ...                                     Pittodrie Street   \n",
       "\n",
       "  owler_company_premium.industries[0].industry owler_company_premium.is_hit  \\\n",
       "0                 Travel, Recreation & Leisure                         True   \n",
       "\n",
       "                      owler_company_premium.logo_url  \\\n",
       "0  https://s3.amazonaws.com/owler-image/logo/aber...   \n",
       "\n",
       "   owler_company_premium.name    owler_company_premium.perm_id  \\\n",
       "0  Aberdeen Football Club Plc  https://permid.org/1-4295897304   \n",
       "\n",
       "                   owler_company_premium.profile_url  \\\n",
       "0  https://www.owler.com/iaApp/2298926/aberdeen-f...   \n",
       "\n",
       "  owler_company_premium.short_name owler_company_premium.twitter_link  \\\n",
       "0           Aberdeen Football Club      http://twitter.com/AberdeenFC   \n",
       "\n",
       "  owler_company_premium.website  \n",
       "0          http://www.afc.co.uk  \n",
       "\n",
       "[1 rows x 8194 columns]"
      ]
     },
     "execution_count": 41,
     "metadata": {},
     "output_type": "execute_result"
    }
   ],
   "source": [
    "results.head()"
   ]
  },
  {
   "cell_type": "code",
   "execution_count": 42,
   "metadata": {},
   "outputs": [],
   "source": [
    "results.to_csv('filename.csv', index = False)"
   ]
  }
 ],
 "metadata": {
  "kernelspec": {
   "display_name": "Python 3",
   "language": "python",
   "name": "python3"
  },
  "language_info": {
   "codemirror_mode": {
    "name": "ipython",
    "version": 3
   },
   "file_extension": ".py",
   "mimetype": "text/x-python",
   "name": "python",
   "nbconvert_exporter": "python",
   "pygments_lexer": "ipython3",
   "version": "3.7.0"
  }
 },
 "nbformat": 4,
 "nbformat_minor": 2
}
